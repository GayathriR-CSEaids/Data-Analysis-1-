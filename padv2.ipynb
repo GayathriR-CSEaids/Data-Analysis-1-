{
  "nbformat": 4,
  "nbformat_minor": 0,
  "metadata": {
    "colab": {
      "provenance": []
    },
    "kernelspec": {
      "name": "python3",
      "display_name": "Python 3"
    },
    "language_info": {
      "name": "python"
    }
  },
  "cells": [
    {
      "cell_type": "code",
      "execution_count": 18,
      "metadata": {
        "colab": {
          "base_uri": "https://localhost:8080/"
        },
        "id": "ZUPyvcUKeRun",
        "outputId": "9bc97b61-9071-4139-cedd-3248c3a4aa11"
      },
      "outputs": [
        {
          "output_type": "stream",
          "name": "stdout",
          "text": [
            "Index(['Cement (component 1)(kg in a m^3 mixture)',\n",
            "       'Blast Furnace Slag (component 2)(kg in a m^3 mixture)',\n",
            "       'Fly Ash (component 3)(kg in a m^3 mixture)',\n",
            "       'Water  (component 4)(kg in a m^3 mixture)',\n",
            "       'Superplasticizer (component 5)(kg in a m^3 mixture)',\n",
            "       'Coarse Aggregate  (component 6)(kg in a m^3 mixture)',\n",
            "       'Fine Aggregate (component 7)(kg in a m^3 mixture)', 'Age (day)',\n",
            "       'Concrete compressive strength(MPa, megapascals) '],\n",
            "      dtype='object')\n",
            "\n",
            "Original number of features: 8\n"
          ]
        }
      ],
      "source": [
        "import pandas as pd\n",
        "import numpy as np\n",
        "from sklearn.model_selection import train_test_split\n",
        "from sklearn.tree import DecisionTreeRegressor\n",
        "from sklearn.metrics import mean_squared_error, mean_absolute_error\n",
        "from sklearn.feature_selection import SelectKBest, f_regression\n",
        "from sklearn.preprocessing import StandardScaler\n",
        "\n",
        "# Load the dataset\n",
        "data_url = \"https://archive.ics.uci.edu/ml/machine-learning-databases/concrete/compressive/Concrete_Data.xls\"\n",
        "data = pd.read_excel(data_url)\n",
        "\n",
        "print(data.columns)\n",
        "\n",
        "# Define the feature set and target variable\n",
        "X = data.iloc[:, :-1]  # All features except the last column\n",
        "y = data.iloc[:, -1]   # Target: Concrete compressive strength\n",
        "\n",
        "# Display original dimensions of the data\n",
        "original_dim = X.shape[1]\n",
        "print(f\"\\nOriginal number of features: {original_dim}\")\n",
        "\n",
        "# Splitting data into training and testing sets\n",
        "X_train, X_test, y_train, y_test = train_test_split(X, y, test_size=0.3, random_state=42)\n",
        "\n",
        "# Standardizing the data\n",
        "scaler = StandardScaler()\n",
        "X_train_scaled = scaler.fit_transform(X_train)\n",
        "X_test_scaled = scaler.transform(X_test)\n",
        "\n",
        "# Function to train and evaluate models\n",
        "def train_evaluate_model(X_train, X_test, y_train, y_test, model):\n",
        "    model.fit(X_train, y_train)\n",
        "    y_pred = model.predict(X_test)\n",
        "    rmse = np.sqrt(mean_squared_error(y_test, y_pred))\n",
        "    mae = mean_absolute_error(y_test, y_pred)\n",
        "    return rmse, mae\n",
        "\n",
        "\n",
        "\n",
        "# Feature Importance and Dimension Reduction\n",
        "selector = SelectKBest(score_func=f_regression, k=6)  # Selecting top 5 features\n",
        "X_train_reduced = selector.fit_transform(X_train_scaled, y_train)\n",
        "X_test_reduced = selector.transform(X_test_scaled)\n",
        "\n"
      ]
    },
    {
      "cell_type": "markdown",
      "source": [
        "### **Decision** **Tree**"
      ],
      "metadata": {
        "id": "YvPN3RqrbMUv"
      }
    },
    {
      "cell_type": "code",
      "source": [
        "from sklearn.tree import DecisionTreeRegressor\n",
        "\n",
        "# Decision Tree Regression\n",
        "tree_model = DecisionTreeRegressor(random_state=42)\n",
        "rmse_tree, mae_tree = train_evaluate_model(X_train_scaled, X_test_scaled, y_train, y_test, tree_model)\n",
        "\n",
        "print(f\"Decision Tree - RMSE: {rmse_tree}, MAE: {mae_tree}\")\n",
        "\n",
        "# Display reduced dimensions of the data\n",
        "reduced_dim = X_train_reduced.shape[1]\n",
        "print(f\"\\nReduced number of features: {reduced_dim}\")\n",
        "\n",
        "\n",
        "# Retrain models on reduced data\n",
        "rmse_tree_reduced, mae_tree_reduced = train_evaluate_model(X_train_reduced, X_test_reduced, y_train, y_test, tree_model)\n",
        "print(f\"Reduced Decision Tree - RMSE: {rmse_tree_reduced}, MAE: {mae_tree_reduced}\")\n",
        "\n",
        "\n"
      ],
      "metadata": {
        "colab": {
          "base_uri": "https://localhost:8080/"
        },
        "id": "B6f5f-tAbLVS",
        "outputId": "e0bd5d56-0852-4c9b-ab08-56c81c564fff"
      },
      "execution_count": 19,
      "outputs": [
        {
          "output_type": "stream",
          "name": "stdout",
          "text": [
            "Decision Tree - RMSE: 6.507857309920414, MAE: 4.210496690740686\n",
            "\n",
            "Reduced number of features: 6\n",
            "Reduced Decision Tree - RMSE: 8.072934689493657, MAE: 4.941882503770349\n"
          ]
        }
      ]
    },
    {
      "cell_type": "markdown",
      "source": [
        "### **Support vector Machine**"
      ],
      "metadata": {
        "id": "tovAfCtdbEMI"
      }
    },
    {
      "cell_type": "code",
      "source": [
        "from sklearn.svm import SVR\n",
        "\n",
        "# Support Vector Regression\n",
        "svr_model = SVR(kernel='linear')\n",
        "rmse_svr, mae_svr = train_evaluate_model(X_train_scaled, X_test_scaled, y_train, y_test, svr_model)\n",
        "\n",
        "\n",
        "print(f\"SVR - RMSE: {rmse_svr}, MAE: {mae_svr}\")\n",
        "\n",
        "# Display reduced dimensions of the data\n",
        "reduced_dim = X_train_reduced.shape[1]\n",
        "print(f\"\\nReduced number of features: {reduced_dim}\")\n",
        "\n",
        "\n",
        "# Retrain models on reduced data\n",
        "rmse_svr_reduced, mae_svr_reduced = train_evaluate_model(X_train_reduced, X_test_reduced, y_train, y_test, svr_model)\n",
        "\n",
        "print(f\"Reduced SVR - RMSE: {rmse_svr_reduced}, MAE: {mae_svr_reduced}\")\n",
        "\n"
      ],
      "metadata": {
        "colab": {
          "base_uri": "https://localhost:8080/"
        },
        "id": "V1AlncZUaROx",
        "outputId": "01faf508-ccb6-4472-a4a2-24413317ae1e"
      },
      "execution_count": 20,
      "outputs": [
        {
          "output_type": "stream",
          "name": "stdout",
          "text": [
            "SVR - RMSE: 11.090964024561979, MAE: 8.326481512943356\n",
            "\n",
            "Reduced number of features: 6\n",
            "Reduced SVR - RMSE: 11.264252337634094, MAE: 8.55227337617268\n"
          ]
        }
      ]
    },
    {
      "cell_type": "markdown",
      "source": [
        "## **Gradient** **Boosting** **Regressor**"
      ],
      "metadata": {
        "id": "DGDjAIEMYIKB"
      }
    },
    {
      "cell_type": "code",
      "source": [
        "from sklearn.ensemble import GradientBoostingRegressor\n",
        "model = GradientBoostingRegressor(n_estimators=6)\n",
        "rmse_gbr, mae_gbr = train_evaluate_model(X_train_scaled, X_test_scaled, y_train, y_test, model)\n",
        "print(f\"Random Forest - RMSE: {rmse_gbr}, MAE: {mae_gbr}\")\n",
        "\n",
        "# Display reduced dimensions of the data\n",
        "reduced_dim = X_train_reduced.shape[1]\n",
        "print(f\"\\nReduced number of features: {reduced_dim}\")\n",
        "\n",
        "# Retrain models on reduced data\n",
        "rmse_svr_reduced, mae_svr_reduced = train_evaluate_model(X_train_reduced, X_test_reduced, y_train, y_test, model)\n",
        "\n",
        "print(f\"Reduced Random forest - RMSE: {rmse_svr_reduced}, MAE: {mae_svr_reduced}\")\n"
      ],
      "metadata": {
        "colab": {
          "base_uri": "https://localhost:8080/"
        },
        "id": "8dnSrbK5gUAM",
        "outputId": "1972d770-cdb9-4371-ca23-4531c188e42b"
      },
      "execution_count": 21,
      "outputs": [
        {
          "output_type": "stream",
          "name": "stdout",
          "text": [
            "Random Forest - RMSE: 12.184921515790482, MAE: 9.805521303971021\n",
            "\n",
            "Reduced number of features: 6\n",
            "Reduced Random forest - RMSE: 12.169419670703668, MAE: 9.772627740979548\n"
          ]
        }
      ]
    },
    {
      "cell_type": "markdown",
      "source": [
        "### **Random Forest Regressor**"
      ],
      "metadata": {
        "id": "ybwNDvM-YVxJ"
      }
    },
    {
      "cell_type": "code",
      "source": [
        "from sklearn.ensemble import RandomForestRegressor\n",
        "\n",
        "# For regression\n",
        "rf_regressor = RandomForestRegressor(\n",
        "    n_estimators=100,           # Number of trees\n",
        "    max_depth=15,             # Maximum depth of trees\n",
        "    random_state=25         # Seed for random number generator\n",
        ")\n",
        "\n",
        "# Train and evaluate the model\n",
        "rmse_rf, mae_rf = train_evaluate_model(X_train_scaled, X_test_scaled, y_train, y_test, rf_regressor)\n",
        "print(f\"Random Forest Regressor - RMSE: {rmse_rf}, MAE: {mae_rf}\")\n",
        "\n",
        "# Display reduced dimensions of the data\n",
        "reduced_dim = X_train_reduced.shape[1]\n",
        "print(f\"\\nReduced number of features: {reduced_dim}\")\n",
        "\n",
        "# Retrain models on reduced data\n",
        "rmse_r, mae_r = train_evaluate_model(X_train_reduced, X_test_reduced, y_train, y_test, rf_regressor)\n",
        "print(f\"Random Forest Rgressor - RMSE: {rmse_r}, MAE: {mae_r}\")"
      ],
      "metadata": {
        "colab": {
          "base_uri": "https://localhost:8080/"
        },
        "id": "q-_bsoPNiJau",
        "outputId": "a642ceb3-00f0-4e77-8ad7-2e1dbd53e357"
      },
      "execution_count": 22,
      "outputs": [
        {
          "output_type": "stream",
          "name": "stdout",
          "text": [
            "Random Forest Regressor - RMSE: 5.498416517056601, MAE: 3.7676697262140233\n",
            "\n",
            "Reduced number of features: 6\n",
            "Random Forest Rgressor - RMSE: 5.993436873386975, MAE: 4.137053510402069\n"
          ]
        }
      ]
    }
  ]
}